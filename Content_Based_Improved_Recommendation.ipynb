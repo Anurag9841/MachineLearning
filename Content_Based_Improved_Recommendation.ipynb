{
  "cells": [
    {
      "cell_type": "markdown",
      "metadata": {
        "id": "ubNRgHIs4Plf"
      },
      "source": [
        "Content Based Improved Recommendation System"
      ]
    },
    {
      "cell_type": "code",
      "execution_count": null,
      "metadata": {
        "id": "4Xxp2voNphH3"
      },
      "outputs": [],
      "source": [
        "import numpy as np\n",
        "import pandas as pd"
      ]
    },
    {
      "cell_type": "code",
      "execution_count": null,
      "metadata": {
        "colab": {
          "base_uri": "https://localhost:8080/"
        },
        "id": "VLv2DEHQqWVW",
        "outputId": "b76e23ae-6b05-4de5-e1f0-1bff0d33e771"
      },
      "outputs": [
        {
          "output_type": "stream",
          "name": "stdout",
          "text": [
            "Mounted at /content/drive\n"
          ]
        }
      ],
      "source": [
        "from google.colab import drive\n",
        "drive.mount('/content/drive')"
      ]
    },
    {
      "cell_type": "code",
      "execution_count": null,
      "metadata": {
        "colab": {
          "base_uri": "https://localhost:8080/",
          "height": 699
        },
        "id": "A4ATz9GaqipS",
        "outputId": "335e4c80-3af2-4c46-95a4-a58d05431009"
      },
      "outputs": [
        {
          "output_type": "execute_result",
          "data": {
            "text/plain": [
              "   Unnamed: 0           artist_name            track_name  release_date genre  \\\n",
              "0           0                mukesh  mohabbat bhi jhoothi          1950   pop   \n",
              "1           4         frankie laine             i believe          1950   pop   \n",
              "2           6           johnnie ray                   cry          1950   pop   \n",
              "3          10           pérez prado              patricia          1950   pop   \n",
              "4          12  giorgos papadopoulos    apopse eida oneiro          1950   pop   \n",
              "\n",
              "                                              lyrics  len    dating  violence  \\\n",
              "0  hold time feel break feel untrue convince spea...   95  0.000598  0.063746   \n",
              "1  believe drop rain fall grow believe darkest ni...   51  0.035537  0.096777   \n",
              "2  sweetheart send letter goodbye secret feel bet...   24  0.002770  0.002770   \n",
              "3  kiss lips want stroll charm mambo chacha merin...   54  0.048249  0.001548   \n",
              "4  till darling till matter know till dream live ...   48  0.001350  0.001350   \n",
              "\n",
              "   world/life  ...   sadness  feelings  danceability  loudness  acousticness  \\\n",
              "0    0.000598  ...  0.380299  0.117175      0.357739  0.454119      0.997992   \n",
              "1    0.443435  ...  0.001284  0.001284      0.331745  0.647540      0.954819   \n",
              "2    0.002770  ...  0.002770  0.225422      0.456298  0.585288      0.840361   \n",
              "3    0.001548  ...  0.225889  0.001548      0.686992  0.744404      0.083935   \n",
              "4    0.417772  ...  0.068800  0.001350      0.291671  0.646489      0.975904   \n",
              "\n",
              "   instrumentalness   valence    energy       topic  age  \n",
              "0          0.901822  0.339448  0.137110     sadness  1.0  \n",
              "1          0.000002  0.325021  0.263240  world/life  1.0  \n",
              "2          0.000000  0.351814  0.139112       music  1.0  \n",
              "3          0.199393  0.775350  0.743736    romantic  1.0  \n",
              "4          0.000246  0.597073  0.394375    romantic  1.0  \n",
              "\n",
              "[5 rows x 31 columns]"
            ],
            "text/html": [
              "\n",
              "  <div id=\"df-e2cc35bb-3580-403d-a489-5f071b6982f4\">\n",
              "    <div class=\"colab-df-container\">\n",
              "      <div>\n",
              "<style scoped>\n",
              "    .dataframe tbody tr th:only-of-type {\n",
              "        vertical-align: middle;\n",
              "    }\n",
              "\n",
              "    .dataframe tbody tr th {\n",
              "        vertical-align: top;\n",
              "    }\n",
              "\n",
              "    .dataframe thead th {\n",
              "        text-align: right;\n",
              "    }\n",
              "</style>\n",
              "<table border=\"1\" class=\"dataframe\">\n",
              "  <thead>\n",
              "    <tr style=\"text-align: right;\">\n",
              "      <th></th>\n",
              "      <th>Unnamed: 0</th>\n",
              "      <th>artist_name</th>\n",
              "      <th>track_name</th>\n",
              "      <th>release_date</th>\n",
              "      <th>genre</th>\n",
              "      <th>lyrics</th>\n",
              "      <th>len</th>\n",
              "      <th>dating</th>\n",
              "      <th>violence</th>\n",
              "      <th>world/life</th>\n",
              "      <th>...</th>\n",
              "      <th>sadness</th>\n",
              "      <th>feelings</th>\n",
              "      <th>danceability</th>\n",
              "      <th>loudness</th>\n",
              "      <th>acousticness</th>\n",
              "      <th>instrumentalness</th>\n",
              "      <th>valence</th>\n",
              "      <th>energy</th>\n",
              "      <th>topic</th>\n",
              "      <th>age</th>\n",
              "    </tr>\n",
              "  </thead>\n",
              "  <tbody>\n",
              "    <tr>\n",
              "      <th>0</th>\n",
              "      <td>0</td>\n",
              "      <td>mukesh</td>\n",
              "      <td>mohabbat bhi jhoothi</td>\n",
              "      <td>1950</td>\n",
              "      <td>pop</td>\n",
              "      <td>hold time feel break feel untrue convince spea...</td>\n",
              "      <td>95</td>\n",
              "      <td>0.000598</td>\n",
              "      <td>0.063746</td>\n",
              "      <td>0.000598</td>\n",
              "      <td>...</td>\n",
              "      <td>0.380299</td>\n",
              "      <td>0.117175</td>\n",
              "      <td>0.357739</td>\n",
              "      <td>0.454119</td>\n",
              "      <td>0.997992</td>\n",
              "      <td>0.901822</td>\n",
              "      <td>0.339448</td>\n",
              "      <td>0.137110</td>\n",
              "      <td>sadness</td>\n",
              "      <td>1.0</td>\n",
              "    </tr>\n",
              "    <tr>\n",
              "      <th>1</th>\n",
              "      <td>4</td>\n",
              "      <td>frankie laine</td>\n",
              "      <td>i believe</td>\n",
              "      <td>1950</td>\n",
              "      <td>pop</td>\n",
              "      <td>believe drop rain fall grow believe darkest ni...</td>\n",
              "      <td>51</td>\n",
              "      <td>0.035537</td>\n",
              "      <td>0.096777</td>\n",
              "      <td>0.443435</td>\n",
              "      <td>...</td>\n",
              "      <td>0.001284</td>\n",
              "      <td>0.001284</td>\n",
              "      <td>0.331745</td>\n",
              "      <td>0.647540</td>\n",
              "      <td>0.954819</td>\n",
              "      <td>0.000002</td>\n",
              "      <td>0.325021</td>\n",
              "      <td>0.263240</td>\n",
              "      <td>world/life</td>\n",
              "      <td>1.0</td>\n",
              "    </tr>\n",
              "    <tr>\n",
              "      <th>2</th>\n",
              "      <td>6</td>\n",
              "      <td>johnnie ray</td>\n",
              "      <td>cry</td>\n",
              "      <td>1950</td>\n",
              "      <td>pop</td>\n",
              "      <td>sweetheart send letter goodbye secret feel bet...</td>\n",
              "      <td>24</td>\n",
              "      <td>0.002770</td>\n",
              "      <td>0.002770</td>\n",
              "      <td>0.002770</td>\n",
              "      <td>...</td>\n",
              "      <td>0.002770</td>\n",
              "      <td>0.225422</td>\n",
              "      <td>0.456298</td>\n",
              "      <td>0.585288</td>\n",
              "      <td>0.840361</td>\n",
              "      <td>0.000000</td>\n",
              "      <td>0.351814</td>\n",
              "      <td>0.139112</td>\n",
              "      <td>music</td>\n",
              "      <td>1.0</td>\n",
              "    </tr>\n",
              "    <tr>\n",
              "      <th>3</th>\n",
              "      <td>10</td>\n",
              "      <td>pérez prado</td>\n",
              "      <td>patricia</td>\n",
              "      <td>1950</td>\n",
              "      <td>pop</td>\n",
              "      <td>kiss lips want stroll charm mambo chacha merin...</td>\n",
              "      <td>54</td>\n",
              "      <td>0.048249</td>\n",
              "      <td>0.001548</td>\n",
              "      <td>0.001548</td>\n",
              "      <td>...</td>\n",
              "      <td>0.225889</td>\n",
              "      <td>0.001548</td>\n",
              "      <td>0.686992</td>\n",
              "      <td>0.744404</td>\n",
              "      <td>0.083935</td>\n",
              "      <td>0.199393</td>\n",
              "      <td>0.775350</td>\n",
              "      <td>0.743736</td>\n",
              "      <td>romantic</td>\n",
              "      <td>1.0</td>\n",
              "    </tr>\n",
              "    <tr>\n",
              "      <th>4</th>\n",
              "      <td>12</td>\n",
              "      <td>giorgos papadopoulos</td>\n",
              "      <td>apopse eida oneiro</td>\n",
              "      <td>1950</td>\n",
              "      <td>pop</td>\n",
              "      <td>till darling till matter know till dream live ...</td>\n",
              "      <td>48</td>\n",
              "      <td>0.001350</td>\n",
              "      <td>0.001350</td>\n",
              "      <td>0.417772</td>\n",
              "      <td>...</td>\n",
              "      <td>0.068800</td>\n",
              "      <td>0.001350</td>\n",
              "      <td>0.291671</td>\n",
              "      <td>0.646489</td>\n",
              "      <td>0.975904</td>\n",
              "      <td>0.000246</td>\n",
              "      <td>0.597073</td>\n",
              "      <td>0.394375</td>\n",
              "      <td>romantic</td>\n",
              "      <td>1.0</td>\n",
              "    </tr>\n",
              "  </tbody>\n",
              "</table>\n",
              "<p>5 rows × 31 columns</p>\n",
              "</div>\n",
              "      <button class=\"colab-df-convert\" onclick=\"convertToInteractive('df-e2cc35bb-3580-403d-a489-5f071b6982f4')\"\n",
              "              title=\"Convert this dataframe to an interactive table.\"\n",
              "              style=\"display:none;\">\n",
              "        \n",
              "  <svg xmlns=\"http://www.w3.org/2000/svg\" height=\"24px\"viewBox=\"0 0 24 24\"\n",
              "       width=\"24px\">\n",
              "    <path d=\"M0 0h24v24H0V0z\" fill=\"none\"/>\n",
              "    <path d=\"M18.56 5.44l.94 2.06.94-2.06 2.06-.94-2.06-.94-.94-2.06-.94 2.06-2.06.94zm-11 1L8.5 8.5l.94-2.06 2.06-.94-2.06-.94L8.5 2.5l-.94 2.06-2.06.94zm10 10l.94 2.06.94-2.06 2.06-.94-2.06-.94-.94-2.06-.94 2.06-2.06.94z\"/><path d=\"M17.41 7.96l-1.37-1.37c-.4-.4-.92-.59-1.43-.59-.52 0-1.04.2-1.43.59L10.3 9.45l-7.72 7.72c-.78.78-.78 2.05 0 2.83L4 21.41c.39.39.9.59 1.41.59.51 0 1.02-.2 1.41-.59l7.78-7.78 2.81-2.81c.8-.78.8-2.07 0-2.86zM5.41 20L4 18.59l7.72-7.72 1.47 1.35L5.41 20z\"/>\n",
              "  </svg>\n",
              "      </button>\n",
              "      \n",
              "  <style>\n",
              "    .colab-df-container {\n",
              "      display:flex;\n",
              "      flex-wrap:wrap;\n",
              "      gap: 12px;\n",
              "    }\n",
              "\n",
              "    .colab-df-convert {\n",
              "      background-color: #E8F0FE;\n",
              "      border: none;\n",
              "      border-radius: 50%;\n",
              "      cursor: pointer;\n",
              "      display: none;\n",
              "      fill: #1967D2;\n",
              "      height: 32px;\n",
              "      padding: 0 0 0 0;\n",
              "      width: 32px;\n",
              "    }\n",
              "\n",
              "    .colab-df-convert:hover {\n",
              "      background-color: #E2EBFA;\n",
              "      box-shadow: 0px 1px 2px rgba(60, 64, 67, 0.3), 0px 1px 3px 1px rgba(60, 64, 67, 0.15);\n",
              "      fill: #174EA6;\n",
              "    }\n",
              "\n",
              "    [theme=dark] .colab-df-convert {\n",
              "      background-color: #3B4455;\n",
              "      fill: #D2E3FC;\n",
              "    }\n",
              "\n",
              "    [theme=dark] .colab-df-convert:hover {\n",
              "      background-color: #434B5C;\n",
              "      box-shadow: 0px 1px 3px 1px rgba(0, 0, 0, 0.15);\n",
              "      filter: drop-shadow(0px 1px 2px rgba(0, 0, 0, 0.3));\n",
              "      fill: #FFFFFF;\n",
              "    }\n",
              "  </style>\n",
              "\n",
              "      <script>\n",
              "        const buttonEl =\n",
              "          document.querySelector('#df-e2cc35bb-3580-403d-a489-5f071b6982f4 button.colab-df-convert');\n",
              "        buttonEl.style.display =\n",
              "          google.colab.kernel.accessAllowed ? 'block' : 'none';\n",
              "\n",
              "        async function convertToInteractive(key) {\n",
              "          const element = document.querySelector('#df-e2cc35bb-3580-403d-a489-5f071b6982f4');\n",
              "          const dataTable =\n",
              "            await google.colab.kernel.invokeFunction('convertToInteractive',\n",
              "                                                     [key], {});\n",
              "          if (!dataTable) return;\n",
              "\n",
              "          const docLinkHtml = 'Like what you see? Visit the ' +\n",
              "            '<a target=\"_blank\" href=https://colab.research.google.com/notebooks/data_table.ipynb>data table notebook</a>'\n",
              "            + ' to learn more about interactive tables.';\n",
              "          element.innerHTML = '';\n",
              "          dataTable['output_type'] = 'display_data';\n",
              "          await google.colab.output.renderOutput(dataTable, element);\n",
              "          const docLink = document.createElement('div');\n",
              "          docLink.innerHTML = docLinkHtml;\n",
              "          element.appendChild(docLink);\n",
              "        }\n",
              "      </script>\n",
              "    </div>\n",
              "  </div>\n",
              "  "
            ]
          },
          "metadata": {},
          "execution_count": 3
        }
      ],
      "source": [
        "df=pd.read_csv(\"/content/drive/MyDrive/tcc_ceds_music.csv\")\n",
        "df.head(5)"
      ]
    },
    {
      "cell_type": "code",
      "execution_count": null,
      "metadata": {
        "colab": {
          "base_uri": "https://localhost:8080/"
        },
        "id": "rD_pvT2arqdi",
        "outputId": "b3413868-c62a-490f-f7b9-f6b428c089b4"
      },
      "outputs": [
        {
          "output_type": "stream",
          "name": "stdout",
          "text": [
            "<class 'pandas.core.frame.DataFrame'>\n",
            "RangeIndex: 28372 entries, 0 to 28371\n",
            "Data columns (total 31 columns):\n",
            " #   Column                    Non-Null Count  Dtype  \n",
            "---  ------                    --------------  -----  \n",
            " 0   Unnamed: 0                28372 non-null  int64  \n",
            " 1   artist_name               28372 non-null  object \n",
            " 2   track_name                28372 non-null  object \n",
            " 3   release_date              28372 non-null  int64  \n",
            " 4   genre                     28372 non-null  object \n",
            " 5   lyrics                    28372 non-null  object \n",
            " 6   len                       28372 non-null  int64  \n",
            " 7   dating                    28372 non-null  float64\n",
            " 8   violence                  28372 non-null  float64\n",
            " 9   world/life                28372 non-null  float64\n",
            " 10  night/time                28372 non-null  float64\n",
            " 11  shake the audience        28372 non-null  float64\n",
            " 12  family/gospel             28372 non-null  float64\n",
            " 13  romantic                  28372 non-null  float64\n",
            " 14  communication             28372 non-null  float64\n",
            " 15  obscene                   28372 non-null  float64\n",
            " 16  music                     28372 non-null  float64\n",
            " 17  movement/places           28372 non-null  float64\n",
            " 18  light/visual perceptions  28372 non-null  float64\n",
            " 19  family/spiritual          28372 non-null  float64\n",
            " 20  like/girls                28372 non-null  float64\n",
            " 21  sadness                   28372 non-null  float64\n",
            " 22  feelings                  28372 non-null  float64\n",
            " 23  danceability              28372 non-null  float64\n",
            " 24  loudness                  28372 non-null  float64\n",
            " 25  acousticness              28372 non-null  float64\n",
            " 26  instrumentalness          28372 non-null  float64\n",
            " 27  valence                   28372 non-null  float64\n",
            " 28  energy                    28372 non-null  float64\n",
            " 29  topic                     28372 non-null  object \n",
            " 30  age                       28372 non-null  float64\n",
            "dtypes: float64(23), int64(3), object(5)\n",
            "memory usage: 6.7+ MB\n"
          ]
        }
      ],
      "source": [
        "df.info()"
      ]
    },
    {
      "cell_type": "code",
      "execution_count": null,
      "metadata": {
        "id": "BsxO1TctrQHt"
      },
      "outputs": [],
      "source": [
        "df_music=df[[\"artist_name\",\"track_name\",\"genre\",\"topic\"]]"
      ]
    },
    {
      "cell_type": "code",
      "execution_count": null,
      "metadata": {
        "colab": {
          "base_uri": "https://localhost:8080/",
          "height": 206
        },
        "id": "2gUH56t9r02K",
        "outputId": "4b44a347-bac7-4080-9863-bc74bafdb852"
      },
      "outputs": [
        {
          "output_type": "execute_result",
          "data": {
            "text/plain": [
              "      artist_name                     track_name    genre    topic\n",
              "28367     mack 10                10 million ways  hip hop  obscene\n",
              "28368      m.o.p.  ante up (robbin hoodz theory)  hip hop  obscene\n",
              "28369        nine                  whutcha want?  hip hop  obscene\n",
              "28370  will smith                         switch  hip hop  obscene\n",
              "28371       jeezy                         r.i.p.  hip hop  obscene"
            ],
            "text/html": [
              "\n",
              "  <div id=\"df-75ed201e-0c05-4ae3-8853-84c00ab30c00\">\n",
              "    <div class=\"colab-df-container\">\n",
              "      <div>\n",
              "<style scoped>\n",
              "    .dataframe tbody tr th:only-of-type {\n",
              "        vertical-align: middle;\n",
              "    }\n",
              "\n",
              "    .dataframe tbody tr th {\n",
              "        vertical-align: top;\n",
              "    }\n",
              "\n",
              "    .dataframe thead th {\n",
              "        text-align: right;\n",
              "    }\n",
              "</style>\n",
              "<table border=\"1\" class=\"dataframe\">\n",
              "  <thead>\n",
              "    <tr style=\"text-align: right;\">\n",
              "      <th></th>\n",
              "      <th>artist_name</th>\n",
              "      <th>track_name</th>\n",
              "      <th>genre</th>\n",
              "      <th>topic</th>\n",
              "    </tr>\n",
              "  </thead>\n",
              "  <tbody>\n",
              "    <tr>\n",
              "      <th>28367</th>\n",
              "      <td>mack 10</td>\n",
              "      <td>10 million ways</td>\n",
              "      <td>hip hop</td>\n",
              "      <td>obscene</td>\n",
              "    </tr>\n",
              "    <tr>\n",
              "      <th>28368</th>\n",
              "      <td>m.o.p.</td>\n",
              "      <td>ante up (robbin hoodz theory)</td>\n",
              "      <td>hip hop</td>\n",
              "      <td>obscene</td>\n",
              "    </tr>\n",
              "    <tr>\n",
              "      <th>28369</th>\n",
              "      <td>nine</td>\n",
              "      <td>whutcha want?</td>\n",
              "      <td>hip hop</td>\n",
              "      <td>obscene</td>\n",
              "    </tr>\n",
              "    <tr>\n",
              "      <th>28370</th>\n",
              "      <td>will smith</td>\n",
              "      <td>switch</td>\n",
              "      <td>hip hop</td>\n",
              "      <td>obscene</td>\n",
              "    </tr>\n",
              "    <tr>\n",
              "      <th>28371</th>\n",
              "      <td>jeezy</td>\n",
              "      <td>r.i.p.</td>\n",
              "      <td>hip hop</td>\n",
              "      <td>obscene</td>\n",
              "    </tr>\n",
              "  </tbody>\n",
              "</table>\n",
              "</div>\n",
              "      <button class=\"colab-df-convert\" onclick=\"convertToInteractive('df-75ed201e-0c05-4ae3-8853-84c00ab30c00')\"\n",
              "              title=\"Convert this dataframe to an interactive table.\"\n",
              "              style=\"display:none;\">\n",
              "        \n",
              "  <svg xmlns=\"http://www.w3.org/2000/svg\" height=\"24px\"viewBox=\"0 0 24 24\"\n",
              "       width=\"24px\">\n",
              "    <path d=\"M0 0h24v24H0V0z\" fill=\"none\"/>\n",
              "    <path d=\"M18.56 5.44l.94 2.06.94-2.06 2.06-.94-2.06-.94-.94-2.06-.94 2.06-2.06.94zm-11 1L8.5 8.5l.94-2.06 2.06-.94-2.06-.94L8.5 2.5l-.94 2.06-2.06.94zm10 10l.94 2.06.94-2.06 2.06-.94-2.06-.94-.94-2.06-.94 2.06-2.06.94z\"/><path d=\"M17.41 7.96l-1.37-1.37c-.4-.4-.92-.59-1.43-.59-.52 0-1.04.2-1.43.59L10.3 9.45l-7.72 7.72c-.78.78-.78 2.05 0 2.83L4 21.41c.39.39.9.59 1.41.59.51 0 1.02-.2 1.41-.59l7.78-7.78 2.81-2.81c.8-.78.8-2.07 0-2.86zM5.41 20L4 18.59l7.72-7.72 1.47 1.35L5.41 20z\"/>\n",
              "  </svg>\n",
              "      </button>\n",
              "      \n",
              "  <style>\n",
              "    .colab-df-container {\n",
              "      display:flex;\n",
              "      flex-wrap:wrap;\n",
              "      gap: 12px;\n",
              "    }\n",
              "\n",
              "    .colab-df-convert {\n",
              "      background-color: #E8F0FE;\n",
              "      border: none;\n",
              "      border-radius: 50%;\n",
              "      cursor: pointer;\n",
              "      display: none;\n",
              "      fill: #1967D2;\n",
              "      height: 32px;\n",
              "      padding: 0 0 0 0;\n",
              "      width: 32px;\n",
              "    }\n",
              "\n",
              "    .colab-df-convert:hover {\n",
              "      background-color: #E2EBFA;\n",
              "      box-shadow: 0px 1px 2px rgba(60, 64, 67, 0.3), 0px 1px 3px 1px rgba(60, 64, 67, 0.15);\n",
              "      fill: #174EA6;\n",
              "    }\n",
              "\n",
              "    [theme=dark] .colab-df-convert {\n",
              "      background-color: #3B4455;\n",
              "      fill: #D2E3FC;\n",
              "    }\n",
              "\n",
              "    [theme=dark] .colab-df-convert:hover {\n",
              "      background-color: #434B5C;\n",
              "      box-shadow: 0px 1px 3px 1px rgba(0, 0, 0, 0.15);\n",
              "      filter: drop-shadow(0px 1px 2px rgba(0, 0, 0, 0.3));\n",
              "      fill: #FFFFFF;\n",
              "    }\n",
              "  </style>\n",
              "\n",
              "      <script>\n",
              "        const buttonEl =\n",
              "          document.querySelector('#df-75ed201e-0c05-4ae3-8853-84c00ab30c00 button.colab-df-convert');\n",
              "        buttonEl.style.display =\n",
              "          google.colab.kernel.accessAllowed ? 'block' : 'none';\n",
              "\n",
              "        async function convertToInteractive(key) {\n",
              "          const element = document.querySelector('#df-75ed201e-0c05-4ae3-8853-84c00ab30c00');\n",
              "          const dataTable =\n",
              "            await google.colab.kernel.invokeFunction('convertToInteractive',\n",
              "                                                     [key], {});\n",
              "          if (!dataTable) return;\n",
              "\n",
              "          const docLinkHtml = 'Like what you see? Visit the ' +\n",
              "            '<a target=\"_blank\" href=https://colab.research.google.com/notebooks/data_table.ipynb>data table notebook</a>'\n",
              "            + ' to learn more about interactive tables.';\n",
              "          element.innerHTML = '';\n",
              "          dataTable['output_type'] = 'display_data';\n",
              "          await google.colab.output.renderOutput(dataTable, element);\n",
              "          const docLink = document.createElement('div');\n",
              "          docLink.innerHTML = docLinkHtml;\n",
              "          element.appendChild(docLink);\n",
              "        }\n",
              "      </script>\n",
              "    </div>\n",
              "  </div>\n",
              "  "
            ]
          },
          "metadata": {},
          "execution_count": 6
        }
      ],
      "source": [
        "df_music.tail()"
      ]
    },
    {
      "cell_type": "code",
      "source": [
        "improved_lyrics=df_music.to_csv('drive/MyDrive/improved_lyrics.csv',index=True)"
      ],
      "metadata": {
        "id": "lzsSTPmCPdbE"
      },
      "execution_count": null,
      "outputs": []
    },
    {
      "cell_type": "code",
      "execution_count": null,
      "metadata": {
        "colab": {
          "base_uri": "https://localhost:8080/"
        },
        "id": "aoRjT3Odr7Zc",
        "outputId": "6bedb6ad-f329-466a-e54c-d54ffe256cba"
      },
      "outputs": [
        {
          "output_type": "execute_result",
          "data": {
            "text/plain": [
              "28372"
            ]
          },
          "metadata": {},
          "execution_count": 8
        }
      ],
      "source": [
        "len(df_music)"
      ]
    },
    {
      "cell_type": "code",
      "execution_count": null,
      "metadata": {
        "id": "c4jrvxsqr-Yy"
      },
      "outputs": [],
      "source": [
        "df_music=df_music.drop_duplicates(subset=\"track_name\",keep=\"first\")"
      ]
    },
    {
      "cell_type": "code",
      "execution_count": null,
      "metadata": {
        "colab": {
          "base_uri": "https://localhost:8080/"
        },
        "id": "lCYd7c3YsVP9",
        "outputId": "e0f0d94c-da35-48eb-8897-5ea9116ce40c"
      },
      "outputs": [
        {
          "output_type": "execute_result",
          "data": {
            "text/plain": [
              "23689"
            ]
          },
          "metadata": {},
          "execution_count": 10
        }
      ],
      "source": [
        "len(df_music)"
      ]
    },
    {
      "cell_type": "code",
      "execution_count": null,
      "metadata": {
        "colab": {
          "base_uri": "https://localhost:8080/"
        },
        "id": "mHwlXu5YsXcg",
        "outputId": "ef7b75cb-4fcd-45ca-aebf-9fbb6575f049"
      },
      "outputs": [
        {
          "output_type": "execute_result",
          "data": {
            "text/plain": [
              "artist_name    0\n",
              "track_name     0\n",
              "genre          0\n",
              "topic          0\n",
              "dtype: int64"
            ]
          },
          "metadata": {},
          "execution_count": 11
        }
      ],
      "source": [
        "df_music.isna().sum()"
      ]
    },
    {
      "cell_type": "code",
      "execution_count": null,
      "metadata": {
        "id": "15P9STCBxbwa"
      },
      "outputs": [],
      "source": [
        "def concat(x):\n",
        "  return ''.join(x[\"artist_name\"]) +' '+''.join(x[\"genre\"])+' '+''.join(x[\"topic\"])"
      ]
    },
    {
      "cell_type": "code",
      "execution_count": null,
      "metadata": {
        "id": "VzFJ8Giyx-6l"
      },
      "outputs": [],
      "source": [
        "df_music[\"concat\"]=df_music.apply(concat,axis=1)"
      ]
    },
    {
      "cell_type": "code",
      "execution_count": null,
      "metadata": {
        "colab": {
          "base_uri": "https://localhost:8080/"
        },
        "id": "jffNmZgOyhAZ",
        "outputId": "87fa61a4-3e26-4934-ed8e-73cdb3be8446"
      },
      "outputs": [
        {
          "output_type": "execute_result",
          "data": {
            "text/plain": [
              "0                   mukesh pop sadness\n",
              "1         frankie laine pop world/life\n",
              "2                johnnie ray pop music\n",
              "3             pérez prado pop romantic\n",
              "4    giorgos papadopoulos pop romantic\n",
              "Name: concat, dtype: object"
            ]
          },
          "metadata": {},
          "execution_count": 14
        }
      ],
      "source": [
        "df_music[\"concat\"].head()"
      ]
    },
    {
      "cell_type": "code",
      "execution_count": null,
      "metadata": {
        "colab": {
          "base_uri": "https://localhost:8080/",
          "height": 206
        },
        "id": "1o4NF_4Nyn3p",
        "outputId": "02facbbb-0fd0-435b-b216-15ef7895cd51"
      },
      "outputs": [
        {
          "output_type": "execute_result",
          "data": {
            "text/plain": [
              "            artist_name            track_name genre       topic  \\\n",
              "0                mukesh  mohabbat bhi jhoothi   pop     sadness   \n",
              "1         frankie laine             i believe   pop  world/life   \n",
              "2           johnnie ray                   cry   pop       music   \n",
              "3           pérez prado              patricia   pop    romantic   \n",
              "4  giorgos papadopoulos    apopse eida oneiro   pop    romantic   \n",
              "\n",
              "                              concat  \n",
              "0                 mukesh pop sadness  \n",
              "1       frankie laine pop world/life  \n",
              "2              johnnie ray pop music  \n",
              "3           pérez prado pop romantic  \n",
              "4  giorgos papadopoulos pop romantic  "
            ],
            "text/html": [
              "\n",
              "  <div id=\"df-f423220c-ac6a-4024-98be-069bb7b95bb9\">\n",
              "    <div class=\"colab-df-container\">\n",
              "      <div>\n",
              "<style scoped>\n",
              "    .dataframe tbody tr th:only-of-type {\n",
              "        vertical-align: middle;\n",
              "    }\n",
              "\n",
              "    .dataframe tbody tr th {\n",
              "        vertical-align: top;\n",
              "    }\n",
              "\n",
              "    .dataframe thead th {\n",
              "        text-align: right;\n",
              "    }\n",
              "</style>\n",
              "<table border=\"1\" class=\"dataframe\">\n",
              "  <thead>\n",
              "    <tr style=\"text-align: right;\">\n",
              "      <th></th>\n",
              "      <th>artist_name</th>\n",
              "      <th>track_name</th>\n",
              "      <th>genre</th>\n",
              "      <th>topic</th>\n",
              "      <th>concat</th>\n",
              "    </tr>\n",
              "  </thead>\n",
              "  <tbody>\n",
              "    <tr>\n",
              "      <th>0</th>\n",
              "      <td>mukesh</td>\n",
              "      <td>mohabbat bhi jhoothi</td>\n",
              "      <td>pop</td>\n",
              "      <td>sadness</td>\n",
              "      <td>mukesh pop sadness</td>\n",
              "    </tr>\n",
              "    <tr>\n",
              "      <th>1</th>\n",
              "      <td>frankie laine</td>\n",
              "      <td>i believe</td>\n",
              "      <td>pop</td>\n",
              "      <td>world/life</td>\n",
              "      <td>frankie laine pop world/life</td>\n",
              "    </tr>\n",
              "    <tr>\n",
              "      <th>2</th>\n",
              "      <td>johnnie ray</td>\n",
              "      <td>cry</td>\n",
              "      <td>pop</td>\n",
              "      <td>music</td>\n",
              "      <td>johnnie ray pop music</td>\n",
              "    </tr>\n",
              "    <tr>\n",
              "      <th>3</th>\n",
              "      <td>pérez prado</td>\n",
              "      <td>patricia</td>\n",
              "      <td>pop</td>\n",
              "      <td>romantic</td>\n",
              "      <td>pérez prado pop romantic</td>\n",
              "    </tr>\n",
              "    <tr>\n",
              "      <th>4</th>\n",
              "      <td>giorgos papadopoulos</td>\n",
              "      <td>apopse eida oneiro</td>\n",
              "      <td>pop</td>\n",
              "      <td>romantic</td>\n",
              "      <td>giorgos papadopoulos pop romantic</td>\n",
              "    </tr>\n",
              "  </tbody>\n",
              "</table>\n",
              "</div>\n",
              "      <button class=\"colab-df-convert\" onclick=\"convertToInteractive('df-f423220c-ac6a-4024-98be-069bb7b95bb9')\"\n",
              "              title=\"Convert this dataframe to an interactive table.\"\n",
              "              style=\"display:none;\">\n",
              "        \n",
              "  <svg xmlns=\"http://www.w3.org/2000/svg\" height=\"24px\"viewBox=\"0 0 24 24\"\n",
              "       width=\"24px\">\n",
              "    <path d=\"M0 0h24v24H0V0z\" fill=\"none\"/>\n",
              "    <path d=\"M18.56 5.44l.94 2.06.94-2.06 2.06-.94-2.06-.94-.94-2.06-.94 2.06-2.06.94zm-11 1L8.5 8.5l.94-2.06 2.06-.94-2.06-.94L8.5 2.5l-.94 2.06-2.06.94zm10 10l.94 2.06.94-2.06 2.06-.94-2.06-.94-.94-2.06-.94 2.06-2.06.94z\"/><path d=\"M17.41 7.96l-1.37-1.37c-.4-.4-.92-.59-1.43-.59-.52 0-1.04.2-1.43.59L10.3 9.45l-7.72 7.72c-.78.78-.78 2.05 0 2.83L4 21.41c.39.39.9.59 1.41.59.51 0 1.02-.2 1.41-.59l7.78-7.78 2.81-2.81c.8-.78.8-2.07 0-2.86zM5.41 20L4 18.59l7.72-7.72 1.47 1.35L5.41 20z\"/>\n",
              "  </svg>\n",
              "      </button>\n",
              "      \n",
              "  <style>\n",
              "    .colab-df-container {\n",
              "      display:flex;\n",
              "      flex-wrap:wrap;\n",
              "      gap: 12px;\n",
              "    }\n",
              "\n",
              "    .colab-df-convert {\n",
              "      background-color: #E8F0FE;\n",
              "      border: none;\n",
              "      border-radius: 50%;\n",
              "      cursor: pointer;\n",
              "      display: none;\n",
              "      fill: #1967D2;\n",
              "      height: 32px;\n",
              "      padding: 0 0 0 0;\n",
              "      width: 32px;\n",
              "    }\n",
              "\n",
              "    .colab-df-convert:hover {\n",
              "      background-color: #E2EBFA;\n",
              "      box-shadow: 0px 1px 2px rgba(60, 64, 67, 0.3), 0px 1px 3px 1px rgba(60, 64, 67, 0.15);\n",
              "      fill: #174EA6;\n",
              "    }\n",
              "\n",
              "    [theme=dark] .colab-df-convert {\n",
              "      background-color: #3B4455;\n",
              "      fill: #D2E3FC;\n",
              "    }\n",
              "\n",
              "    [theme=dark] .colab-df-convert:hover {\n",
              "      background-color: #434B5C;\n",
              "      box-shadow: 0px 1px 3px 1px rgba(0, 0, 0, 0.15);\n",
              "      filter: drop-shadow(0px 1px 2px rgba(0, 0, 0, 0.3));\n",
              "      fill: #FFFFFF;\n",
              "    }\n",
              "  </style>\n",
              "\n",
              "      <script>\n",
              "        const buttonEl =\n",
              "          document.querySelector('#df-f423220c-ac6a-4024-98be-069bb7b95bb9 button.colab-df-convert');\n",
              "        buttonEl.style.display =\n",
              "          google.colab.kernel.accessAllowed ? 'block' : 'none';\n",
              "\n",
              "        async function convertToInteractive(key) {\n",
              "          const element = document.querySelector('#df-f423220c-ac6a-4024-98be-069bb7b95bb9');\n",
              "          const dataTable =\n",
              "            await google.colab.kernel.invokeFunction('convertToInteractive',\n",
              "                                                     [key], {});\n",
              "          if (!dataTable) return;\n",
              "\n",
              "          const docLinkHtml = 'Like what you see? Visit the ' +\n",
              "            '<a target=\"_blank\" href=https://colab.research.google.com/notebooks/data_table.ipynb>data table notebook</a>'\n",
              "            + ' to learn more about interactive tables.';\n",
              "          element.innerHTML = '';\n",
              "          dataTable['output_type'] = 'display_data';\n",
              "          await google.colab.output.renderOutput(dataTable, element);\n",
              "          const docLink = document.createElement('div');\n",
              "          docLink.innerHTML = docLinkHtml;\n",
              "          element.appendChild(docLink);\n",
              "        }\n",
              "      </script>\n",
              "    </div>\n",
              "  </div>\n",
              "  "
            ]
          },
          "metadata": {},
          "execution_count": 15
        }
      ],
      "source": [
        "df_music.head()"
      ]
    },
    {
      "cell_type": "code",
      "source": [
        "improved_lyrics=df_music.to_csv('drive/MyDrive/improved_lyrics.csv',index=True)"
      ],
      "metadata": {
        "id": "g5j6KtyIfFQe"
      },
      "execution_count": null,
      "outputs": []
    },
    {
      "cell_type": "code",
      "execution_count": null,
      "metadata": {
        "colab": {
          "base_uri": "https://localhost:8080/"
        },
        "id": "oOKgT9bh0GSw",
        "outputId": "a5950788-8c65-4d7f-cf9e-9b1546a00e1d"
      },
      "outputs": [
        {
          "output_type": "execute_result",
          "data": {
            "text/plain": [
              "artist_name    0\n",
              "track_name     0\n",
              "genre          0\n",
              "topic          0\n",
              "concat         0\n",
              "dtype: int64"
            ]
          },
          "metadata": {},
          "execution_count": 17
        }
      ],
      "source": [
        "df_music.isna().sum()"
      ]
    },
    {
      "cell_type": "markdown",
      "metadata": {
        "id": "HRQqJDEO1Kkq"
      },
      "source": [
        "Using count Vectorizer for NLP"
      ]
    },
    {
      "cell_type": "code",
      "execution_count": null,
      "metadata": {
        "id": "Kj5sI-T4zSbW"
      },
      "outputs": [],
      "source": [
        "from sklearn.feature_extraction.text import CountVectorizer"
      ]
    },
    {
      "cell_type": "code",
      "execution_count": null,
      "metadata": {
        "id": "ijqCDCyYzyGg"
      },
      "outputs": [],
      "source": [
        "vectorizer=CountVectorizer()"
      ]
    },
    {
      "cell_type": "code",
      "execution_count": null,
      "metadata": {
        "id": "Q0UBd96dz472"
      },
      "outputs": [],
      "source": [
        "matrix=vectorizer.fit_transform(df_music[\"concat\"])"
      ]
    },
    {
      "cell_type": "code",
      "execution_count": null,
      "metadata": {
        "id": "apuTWBkJ0A8S"
      },
      "outputs": [],
      "source": [
        "from sklearn.metrics.pairwise import cosine_similarity"
      ]
    },
    {
      "cell_type": "code",
      "execution_count": null,
      "metadata": {
        "id": "TmmXHFT_1YmT"
      },
      "outputs": [],
      "source": [
        "cosine_sim=cosine_similarity(matrix,matrix)\n"
      ]
    },
    {
      "cell_type": "markdown",
      "metadata": {
        "id": "va2biZjP1nxh"
      },
      "source": [
        "Reverse Mapping"
      ]
    },
    {
      "cell_type": "code",
      "execution_count": null,
      "metadata": {
        "id": "pnXqihhp1jWp"
      },
      "outputs": [],
      "source": [
        "indices=pd.Series(df_music.index,index=df_music[\"track_name\"])\n",
        "indices1=pd.Series(df_music.index,index=df_music[\"artist_name\"])\n",
        "indices2=pd.Series(df_music.index,index=df_music[\"genre\"])"
      ]
    },
    {
      "cell_type": "code",
      "source": [
        "indices"
      ],
      "metadata": {
        "colab": {
          "base_uri": "https://localhost:8080/"
        },
        "id": "REJsuXtke6kS",
        "outputId": "b0b75bdb-7d46-4664-e116-b37973159957"
      },
      "execution_count": null,
      "outputs": [
        {
          "output_type": "execute_result",
          "data": {
            "text/plain": [
              "track_name\n",
              "mohabbat bhi jhoothi                 0\n",
              "i believe                            1\n",
              "cry                                  2\n",
              "patricia                             3\n",
              "apopse eida oneiro                   4\n",
              "                                 ...  \n",
              "10 million ways                  28367\n",
              "ante up (robbin hoodz theory)    28368\n",
              "whutcha want?                    28369\n",
              "switch                           28370\n",
              "r.i.p.                           28371\n",
              "Length: 23689, dtype: int64"
            ]
          },
          "metadata": {},
          "execution_count": 24
        }
      ]
    },
    {
      "cell_type": "code",
      "execution_count": null,
      "metadata": {
        "id": "Qy_wEJGR2F1q"
      },
      "outputs": [],
      "source": [
        "def revised_recommendation(title,df_music=df_music,indices=indices,cosine_sim=cosine_sim):\n",
        "  id=indices[title]\n",
        "  sim=list(enumerate(cosine_sim[id]))\n",
        "  sim=sorted(sim,key=lambda x:x[1],reverse=True)\n",
        "  sim=sim[1:11]\n",
        "  music_index=[i[0] for i in sim]\n",
        "  return df_music[\"track_name\"].iloc[music_index]"
      ]
    },
    {
      "cell_type": "code",
      "execution_count": null,
      "metadata": {
        "colab": {
          "base_uri": "https://localhost:8080/"
        },
        "id": "83I8PuXQ27_B",
        "outputId": "3cb5981c-723d-462c-fc1e-0d7527dbcc66"
      },
      "outputs": [
        {
          "output_type": "execute_result",
          "data": {
            "text/plain": [
              "56                       here am i\n",
              "5446               three more days\n",
              "5767              if i had a heart\n",
              "2770                    blue spark\n",
              "2915                 sitting still\n",
              "3804                    radio song\n",
              "1925                  prairie rose\n",
              "2000                   nightingale\n",
              "2542                      oh yeah!\n",
              "24      hum tujhse mohabbat kar ke\n",
              "Name: track_name, dtype: object"
            ]
          },
          "metadata": {},
          "execution_count": 26
        }
      ],
      "source": [
        "revised_recommendation(\"cry\")"
      ]
    },
    {
      "cell_type": "code",
      "source": [
        "def artist_recommendation(artist,df_music=df_music,indices=indices1,cosine_sim=cosine_sim):\n",
        "  id=indices1[artist][1]\n",
        "  sim=list(enumerate(cosine_sim[id]))\n",
        "  sim=sorted(sim,key=lambda x:x[1],reverse=True)\n",
        "  sim=sim[1:11]\n",
        "  music_index=[i[0] for i in sim]\n",
        "  return df_music[\"track_name\"].iloc[music_index]"
      ],
      "metadata": {
        "id": "rUvXWGDn4Tzv"
      },
      "execution_count": null,
      "outputs": []
    },
    {
      "cell_type": "code",
      "source": [
        "artist_recommendation(\"mukesh\")"
      ],
      "metadata": {
        "colab": {
          "base_uri": "https://localhost:8080/"
        },
        "id": "Z2aoBt7q4en6",
        "outputId": "8ac9f63f-63dc-487a-9dd0-c3d2b9e82d4a"
      },
      "execution_count": null,
      "outputs": [
        {
          "output_type": "execute_result",
          "data": {
            "text/plain": [
              "2770              blue spark\n",
              "2915           sitting still\n",
              "3804              radio song\n",
              "1925            prairie rose\n",
              "2000             nightingale\n",
              "2542                oh yeah!\n",
              "0       mohabbat bhi jhoothi\n",
              "155                    你去了那裡\n",
              "864          hurdy gurdy man\n",
              "912          to sing for you\n",
              "Name: track_name, dtype: object"
            ]
          },
          "metadata": {},
          "execution_count": 28
        }
      ]
    },
    {
      "cell_type": "code",
      "source": [
        "# df[df_music[\"topic\"]][\"obscene\"]"
      ],
      "metadata": {
        "id": "qWAqaJp790Z2"
      },
      "execution_count": null,
      "outputs": []
    },
    {
      "cell_type": "code",
      "source": [
        "from itertools import chain"
      ],
      "metadata": {
        "id": "2iz2oDb3elB4"
      },
      "execution_count": null,
      "outputs": []
    },
    {
      "cell_type": "code",
      "source": [
        "def revised1_recommendation(title,df_music=df_music,indices=indices,cosine_sim=cosine_sim):\n",
        "  li=[]\n",
        "  for i in range(len(title)):\n",
        "    id=indices[title[i]]\n",
        "    sim=list(enumerate(cosine_sim[id]))\n",
        "    sim=sorted(sim,key=lambda x:x[1],reverse=True)\n",
        "    sim=sim[1:11]\n",
        "    li.append(sim)\n",
        "    lif=[]\n",
        "    for i in range(0,10):\n",
        "      music_index=[a[i][0] for a in li]\n",
        "      lif.append(music_index)\n",
        "    flatten_list = list(chain.from_iterable(lif)) \n",
        "  return df_music[\"track_name\"].iloc[flatten_list]"
      ],
      "metadata": {
        "id": "tORbbFPX-BM_"
      },
      "execution_count": null,
      "outputs": []
    },
    {
      "cell_type": "code",
      "source": [
        "title=[\"mohabbat bhi jhoothi\",\"cry\"]"
      ],
      "metadata": {
        "id": "L0hfYPHZRHWU"
      },
      "execution_count": null,
      "outputs": []
    },
    {
      "cell_type": "code",
      "source": [
        "revised1_recommendation(title)"
      ],
      "metadata": {
        "colab": {
          "base_uri": "https://localhost:8080/"
        },
        "id": "B5R8lYS8RTjU",
        "outputId": "6c39e524-a727-44ed-9948-b8d3246870d5"
      },
      "execution_count": null,
      "outputs": [
        {
          "output_type": "execute_result",
          "data": {
            "text/plain": [
              "2648      i'm coming over\n",
              "2885              we walk\n",
              "3186             driver 8\n",
              "3258                hyena\n",
              "3276           fall on me\n",
              "3784            texarkana\n",
              "3857    half a world away\n",
              "3882     near wild heaven\n",
              "6743          oceans away\n",
              "6862           hard place\n",
              "Name: track_name, dtype: object"
            ]
          },
          "metadata": {},
          "execution_count": 33
        }
      ]
    },
    {
      "cell_type": "code",
      "source": [
        "def genre1_recommendation(genre,df_music=df_music,indices=indices2,cosine_sim=cosine_sim):\n",
        "  li=[]\n",
        "  for i in range(len(genre)):\n",
        "    id=indices2[genre[i]][0]\n",
        "    sim=list(enumerate(cosine_sim[id]))\n",
        "    sim=sorted(sim,key=lambda x:x[1],reverse=True)\n",
        "    sim=sim[1:6]\n",
        "    li.append(sim)\n",
        "    lif=[]\n",
        "    for i in range(0,5):\n",
        "     music_index=[a[i][0] for a in li]\n",
        "     lif.append(music_index)\n",
        "    flatten_list = list(chain.from_iterable(lif))\n",
        "  return df_music[\"track_name\"].iloc[flatten_list]"
      ],
      "metadata": {
        "id": "WhxUtaM2RXCr"
      },
      "execution_count": null,
      "outputs": []
    },
    {
      "cell_type": "code",
      "source": [
        "genre=[\"pop\",\"rock\",\"country\"]"
      ],
      "metadata": {
        "id": "nS0lQBxWiBQb"
      },
      "execution_count": null,
      "outputs": []
    },
    {
      "cell_type": "code",
      "source": [
        "genre1_recommendation(genre)"
      ],
      "metadata": {
        "colab": {
          "base_uri": "https://localhost:8080/"
        },
        "id": "79s2DlVui8zS",
        "outputId": "999ae0d0-971f-4f84-b6f6-0329371fd63b"
      },
      "execution_count": null,
      "outputs": [
        {
          "output_type": "execute_result",
          "data": {
            "text/plain": [
              "2648            i'm coming over\n",
              "27874               blaze it up\n",
              "7108        seasons of my heart\n",
              "2885                    we walk\n",
              "27875           yall ain't know\n",
              "7431        a little bitty tear\n",
              "3186                   driver 8\n",
              "27876            smoking lovely\n",
              "7453     my mom and santa claus\n",
              "3258                      hyena\n",
              "27877       i'm not that nigga!\n",
              "7508      lonely christmas call\n",
              "3276                 fall on me\n",
              "28077                 everytime\n",
              "7528             forgive me now\n",
              "Name: track_name, dtype: object"
            ]
          },
          "metadata": {},
          "execution_count": 36
        }
      ]
    },
    {
      "cell_type": "code",
      "source": [
        "def artist1_recommendation(artist,df_music=df_music,indices=indices1,cosine_sim=cosine_sim):\n",
        "  li=[]\n",
        "  for i in range(len(artist)):\n",
        "    id=indices1[artist[i]][0]\n",
        "    sim=list(enumerate(cosine_sim[id]))\n",
        "    sim=sorted(sim,key=lambda x:x[1],reverse=True)\n",
        "    sim=sim[1:6]\n",
        "    li.append(sim)\n",
        "    lif=[]\n",
        "    for i in range(0,5):\n",
        "     music_index=[a[i][0] for a in li]\n",
        "     lif.append(music_index)\n",
        "    flatten_list = list(chain.from_iterable(lif))\n",
        "  return df_music[\"track_name\"].iloc[flatten_list]"
      ],
      "metadata": {
        "id": "aDxiOkgElfVi"
      },
      "execution_count": null,
      "outputs": []
    },
    {
      "cell_type": "code",
      "source": [
        "artist=[\"dua lipa\",\"lata mangeshkar\"]"
      ],
      "metadata": {
        "id": "GBvXmCV_qsmI"
      },
      "execution_count": null,
      "outputs": []
    },
    {
      "cell_type": "code",
      "source": [
        "artist1_recommendation(artist)"
      ],
      "metadata": {
        "colab": {
          "base_uri": "https://localhost:8080/"
        },
        "id": "pWsrlP-dq1R4",
        "outputId": "b2d3e139-ec75-4fb2-9a5e-8e3d6ee5adab"
      },
      "execution_count": null,
      "outputs": [
        {
          "output_type": "execute_result",
          "data": {
            "text/plain": [
              "7378                           maiden's prayer\n",
              "3050                time after time (annelise)\n",
              "7411                                 after all\n",
              "26                              main na janoon\n",
              "10605                          cherokee maiden\n",
              "29                   maagata maagata janm gele\n",
              "7349           the kind of love i can't forget\n",
              "30       chupke chupke (from ''paying guest'')\n",
              "7638                                   rosetta\n",
              "41            le chal ri nindiya le chal hamen\n",
              "Name: track_name, dtype: object"
            ]
          },
          "metadata": {},
          "execution_count": 40
        }
      ]
    },
    {
      "cell_type": "code",
      "source": [
        "import pickle"
      ],
      "metadata": {
        "id": "_6m9Pqq5q51e"
      },
      "execution_count": null,
      "outputs": []
    },
    {
      "cell_type": "code",
      "source": [
        "pickle.dump(revised1_recommendation,open('/content/drive/MyDrive/model.pkl','wb'))\n",
        "pickle.dump(cosine_sim,open('/content/drive/MyDrive/cosine.pkl','wb'))"
      ],
      "metadata": {
        "id": "IpSR9KvMxiEH"
      },
      "execution_count": null,
      "outputs": []
    },
    {
      "cell_type": "code",
      "source": [],
      "metadata": {
        "id": "Z5KhTftmamBv"
      },
      "execution_count": null,
      "outputs": []
    },
    {
      "cell_type": "code",
      "source": [
        "# model1=pickle.load(open('model1.pkl','rb'))"
      ],
      "metadata": {
        "id": "pN80Q1itKQzR"
      },
      "execution_count": null,
      "outputs": []
    },
    {
      "cell_type": "code",
      "source": [
        "# model1([\"bob wills\"])"
      ],
      "metadata": {
        "id": "-1bLvA2SKVWj"
      },
      "execution_count": null,
      "outputs": []
    },
    {
      "cell_type": "code",
      "source": [
        "df_music[df_music[\"track_name\"]==\"shanghai noodle factory\"]"
      ],
      "metadata": {
        "id": "3wDRJPE8Nv_d",
        "colab": {
          "base_uri": "https://localhost:8080/",
          "height": 81
        },
        "outputId": "212c24c8-1931-4246-c6d6-0a24b8250d3a"
      },
      "execution_count": null,
      "outputs": [
        {
          "output_type": "execute_result",
          "data": {
            "text/plain": [
              "     artist_name               track_name    genre    topic  \\\n",
              "8186     traffic  shanghai noodle factory  country  sadness   \n",
              "\n",
              "                       concat  \n",
              "8186  traffic country sadness  "
            ],
            "text/html": [
              "\n",
              "  <div id=\"df-ce51f731-5081-4321-be65-70cdba346b36\">\n",
              "    <div class=\"colab-df-container\">\n",
              "      <div>\n",
              "<style scoped>\n",
              "    .dataframe tbody tr th:only-of-type {\n",
              "        vertical-align: middle;\n",
              "    }\n",
              "\n",
              "    .dataframe tbody tr th {\n",
              "        vertical-align: top;\n",
              "    }\n",
              "\n",
              "    .dataframe thead th {\n",
              "        text-align: right;\n",
              "    }\n",
              "</style>\n",
              "<table border=\"1\" class=\"dataframe\">\n",
              "  <thead>\n",
              "    <tr style=\"text-align: right;\">\n",
              "      <th></th>\n",
              "      <th>artist_name</th>\n",
              "      <th>track_name</th>\n",
              "      <th>genre</th>\n",
              "      <th>topic</th>\n",
              "      <th>concat</th>\n",
              "    </tr>\n",
              "  </thead>\n",
              "  <tbody>\n",
              "    <tr>\n",
              "      <th>8186</th>\n",
              "      <td>traffic</td>\n",
              "      <td>shanghai noodle factory</td>\n",
              "      <td>country</td>\n",
              "      <td>sadness</td>\n",
              "      <td>traffic country sadness</td>\n",
              "    </tr>\n",
              "  </tbody>\n",
              "</table>\n",
              "</div>\n",
              "      <button class=\"colab-df-convert\" onclick=\"convertToInteractive('df-ce51f731-5081-4321-be65-70cdba346b36')\"\n",
              "              title=\"Convert this dataframe to an interactive table.\"\n",
              "              style=\"display:none;\">\n",
              "        \n",
              "  <svg xmlns=\"http://www.w3.org/2000/svg\" height=\"24px\"viewBox=\"0 0 24 24\"\n",
              "       width=\"24px\">\n",
              "    <path d=\"M0 0h24v24H0V0z\" fill=\"none\"/>\n",
              "    <path d=\"M18.56 5.44l.94 2.06.94-2.06 2.06-.94-2.06-.94-.94-2.06-.94 2.06-2.06.94zm-11 1L8.5 8.5l.94-2.06 2.06-.94-2.06-.94L8.5 2.5l-.94 2.06-2.06.94zm10 10l.94 2.06.94-2.06 2.06-.94-2.06-.94-.94-2.06-.94 2.06-2.06.94z\"/><path d=\"M17.41 7.96l-1.37-1.37c-.4-.4-.92-.59-1.43-.59-.52 0-1.04.2-1.43.59L10.3 9.45l-7.72 7.72c-.78.78-.78 2.05 0 2.83L4 21.41c.39.39.9.59 1.41.59.51 0 1.02-.2 1.41-.59l7.78-7.78 2.81-2.81c.8-.78.8-2.07 0-2.86zM5.41 20L4 18.59l7.72-7.72 1.47 1.35L5.41 20z\"/>\n",
              "  </svg>\n",
              "      </button>\n",
              "      \n",
              "  <style>\n",
              "    .colab-df-container {\n",
              "      display:flex;\n",
              "      flex-wrap:wrap;\n",
              "      gap: 12px;\n",
              "    }\n",
              "\n",
              "    .colab-df-convert {\n",
              "      background-color: #E8F0FE;\n",
              "      border: none;\n",
              "      border-radius: 50%;\n",
              "      cursor: pointer;\n",
              "      display: none;\n",
              "      fill: #1967D2;\n",
              "      height: 32px;\n",
              "      padding: 0 0 0 0;\n",
              "      width: 32px;\n",
              "    }\n",
              "\n",
              "    .colab-df-convert:hover {\n",
              "      background-color: #E2EBFA;\n",
              "      box-shadow: 0px 1px 2px rgba(60, 64, 67, 0.3), 0px 1px 3px 1px rgba(60, 64, 67, 0.15);\n",
              "      fill: #174EA6;\n",
              "    }\n",
              "\n",
              "    [theme=dark] .colab-df-convert {\n",
              "      background-color: #3B4455;\n",
              "      fill: #D2E3FC;\n",
              "    }\n",
              "\n",
              "    [theme=dark] .colab-df-convert:hover {\n",
              "      background-color: #434B5C;\n",
              "      box-shadow: 0px 1px 3px 1px rgba(0, 0, 0, 0.15);\n",
              "      filter: drop-shadow(0px 1px 2px rgba(0, 0, 0, 0.3));\n",
              "      fill: #FFFFFF;\n",
              "    }\n",
              "  </style>\n",
              "\n",
              "      <script>\n",
              "        const buttonEl =\n",
              "          document.querySelector('#df-ce51f731-5081-4321-be65-70cdba346b36 button.colab-df-convert');\n",
              "        buttonEl.style.display =\n",
              "          google.colab.kernel.accessAllowed ? 'block' : 'none';\n",
              "\n",
              "        async function convertToInteractive(key) {\n",
              "          const element = document.querySelector('#df-ce51f731-5081-4321-be65-70cdba346b36');\n",
              "          const dataTable =\n",
              "            await google.colab.kernel.invokeFunction('convertToInteractive',\n",
              "                                                     [key], {});\n",
              "          if (!dataTable) return;\n",
              "\n",
              "          const docLinkHtml = 'Like what you see? Visit the ' +\n",
              "            '<a target=\"_blank\" href=https://colab.research.google.com/notebooks/data_table.ipynb>data table notebook</a>'\n",
              "            + ' to learn more about interactive tables.';\n",
              "          element.innerHTML = '';\n",
              "          dataTable['output_type'] = 'display_data';\n",
              "          await google.colab.output.renderOutput(dataTable, element);\n",
              "          const docLink = document.createElement('div');\n",
              "          docLink.innerHTML = docLinkHtml;\n",
              "          element.appendChild(docLink);\n",
              "        }\n",
              "      </script>\n",
              "    </div>\n",
              "  </div>\n",
              "  "
            ]
          },
          "metadata": {},
          "execution_count": 45
        }
      ]
    },
    {
      "cell_type": "code",
      "source": [
        "df_music[df_music[\"artist_name\"]==\"lata mangeshkar\"]"
      ],
      "metadata": {
        "id": "dKgzqvrsN_sV",
        "colab": {
          "base_uri": "https://localhost:8080/",
          "height": 488
        },
        "outputId": "2aaa4f62-ba14-4aac-c99c-173224ed6dd5"
      },
      "execution_count": null,
      "outputs": [
        {
          "output_type": "execute_result",
          "data": {
            "text/plain": [
              "         artist_name                             track_name genre       topic  \\\n",
              "25   lata mangeshkar      paas nahin aaiye haath na lagaiye   pop  night/time   \n",
              "26   lata mangeshkar                         main na janoon   pop       music   \n",
              "28   lata mangeshkar              judai ki khabar hoti agar   pop  world/life   \n",
              "29   lata mangeshkar              maagata maagata janm gele   pop    violence   \n",
              "30   lata mangeshkar  chupke chupke (from ''paying guest'')   pop    violence   \n",
              "40   lata mangeshkar        chandan ka palna resham ko dori   pop  world/life   \n",
              "41   lata mangeshkar       le chal ri nindiya le chal hamen   pop    violence   \n",
              "51   lata mangeshkar                 sitaron ki mehfil saji   pop    violence   \n",
              "54   lata mangeshkar               kabhi khamosh rahte hain   pop     sadness   \n",
              "62   lata mangeshkar               mera dil yeh pukare aaja   pop     sadness   \n",
              "66   lata mangeshkar              pahuni raghunandan savala   pop     obscene   \n",
              "68   lata mangeshkar                    antar mantar jantar   pop     sadness   \n",
              "69   lata mangeshkar     kahan se yeh sholon ka toofan aaya   pop    violence   \n",
              "108  lata mangeshkar            panchhi banoon udti phiroon   pop       music   \n",
              "\n",
              "                             concat  \n",
              "25   lata mangeshkar pop night/time  \n",
              "26        lata mangeshkar pop music  \n",
              "28   lata mangeshkar pop world/life  \n",
              "29     lata mangeshkar pop violence  \n",
              "30     lata mangeshkar pop violence  \n",
              "40   lata mangeshkar pop world/life  \n",
              "41     lata mangeshkar pop violence  \n",
              "51     lata mangeshkar pop violence  \n",
              "54      lata mangeshkar pop sadness  \n",
              "62      lata mangeshkar pop sadness  \n",
              "66      lata mangeshkar pop obscene  \n",
              "68      lata mangeshkar pop sadness  \n",
              "69     lata mangeshkar pop violence  \n",
              "108       lata mangeshkar pop music  "
            ],
            "text/html": [
              "\n",
              "  <div id=\"df-428d2fb3-1a1a-491a-a694-68fba15a3119\">\n",
              "    <div class=\"colab-df-container\">\n",
              "      <div>\n",
              "<style scoped>\n",
              "    .dataframe tbody tr th:only-of-type {\n",
              "        vertical-align: middle;\n",
              "    }\n",
              "\n",
              "    .dataframe tbody tr th {\n",
              "        vertical-align: top;\n",
              "    }\n",
              "\n",
              "    .dataframe thead th {\n",
              "        text-align: right;\n",
              "    }\n",
              "</style>\n",
              "<table border=\"1\" class=\"dataframe\">\n",
              "  <thead>\n",
              "    <tr style=\"text-align: right;\">\n",
              "      <th></th>\n",
              "      <th>artist_name</th>\n",
              "      <th>track_name</th>\n",
              "      <th>genre</th>\n",
              "      <th>topic</th>\n",
              "      <th>concat</th>\n",
              "    </tr>\n",
              "  </thead>\n",
              "  <tbody>\n",
              "    <tr>\n",
              "      <th>25</th>\n",
              "      <td>lata mangeshkar</td>\n",
              "      <td>paas nahin aaiye haath na lagaiye</td>\n",
              "      <td>pop</td>\n",
              "      <td>night/time</td>\n",
              "      <td>lata mangeshkar pop night/time</td>\n",
              "    </tr>\n",
              "    <tr>\n",
              "      <th>26</th>\n",
              "      <td>lata mangeshkar</td>\n",
              "      <td>main na janoon</td>\n",
              "      <td>pop</td>\n",
              "      <td>music</td>\n",
              "      <td>lata mangeshkar pop music</td>\n",
              "    </tr>\n",
              "    <tr>\n",
              "      <th>28</th>\n",
              "      <td>lata mangeshkar</td>\n",
              "      <td>judai ki khabar hoti agar</td>\n",
              "      <td>pop</td>\n",
              "      <td>world/life</td>\n",
              "      <td>lata mangeshkar pop world/life</td>\n",
              "    </tr>\n",
              "    <tr>\n",
              "      <th>29</th>\n",
              "      <td>lata mangeshkar</td>\n",
              "      <td>maagata maagata janm gele</td>\n",
              "      <td>pop</td>\n",
              "      <td>violence</td>\n",
              "      <td>lata mangeshkar pop violence</td>\n",
              "    </tr>\n",
              "    <tr>\n",
              "      <th>30</th>\n",
              "      <td>lata mangeshkar</td>\n",
              "      <td>chupke chupke (from ''paying guest'')</td>\n",
              "      <td>pop</td>\n",
              "      <td>violence</td>\n",
              "      <td>lata mangeshkar pop violence</td>\n",
              "    </tr>\n",
              "    <tr>\n",
              "      <th>40</th>\n",
              "      <td>lata mangeshkar</td>\n",
              "      <td>chandan ka palna resham ko dori</td>\n",
              "      <td>pop</td>\n",
              "      <td>world/life</td>\n",
              "      <td>lata mangeshkar pop world/life</td>\n",
              "    </tr>\n",
              "    <tr>\n",
              "      <th>41</th>\n",
              "      <td>lata mangeshkar</td>\n",
              "      <td>le chal ri nindiya le chal hamen</td>\n",
              "      <td>pop</td>\n",
              "      <td>violence</td>\n",
              "      <td>lata mangeshkar pop violence</td>\n",
              "    </tr>\n",
              "    <tr>\n",
              "      <th>51</th>\n",
              "      <td>lata mangeshkar</td>\n",
              "      <td>sitaron ki mehfil saji</td>\n",
              "      <td>pop</td>\n",
              "      <td>violence</td>\n",
              "      <td>lata mangeshkar pop violence</td>\n",
              "    </tr>\n",
              "    <tr>\n",
              "      <th>54</th>\n",
              "      <td>lata mangeshkar</td>\n",
              "      <td>kabhi khamosh rahte hain</td>\n",
              "      <td>pop</td>\n",
              "      <td>sadness</td>\n",
              "      <td>lata mangeshkar pop sadness</td>\n",
              "    </tr>\n",
              "    <tr>\n",
              "      <th>62</th>\n",
              "      <td>lata mangeshkar</td>\n",
              "      <td>mera dil yeh pukare aaja</td>\n",
              "      <td>pop</td>\n",
              "      <td>sadness</td>\n",
              "      <td>lata mangeshkar pop sadness</td>\n",
              "    </tr>\n",
              "    <tr>\n",
              "      <th>66</th>\n",
              "      <td>lata mangeshkar</td>\n",
              "      <td>pahuni raghunandan savala</td>\n",
              "      <td>pop</td>\n",
              "      <td>obscene</td>\n",
              "      <td>lata mangeshkar pop obscene</td>\n",
              "    </tr>\n",
              "    <tr>\n",
              "      <th>68</th>\n",
              "      <td>lata mangeshkar</td>\n",
              "      <td>antar mantar jantar</td>\n",
              "      <td>pop</td>\n",
              "      <td>sadness</td>\n",
              "      <td>lata mangeshkar pop sadness</td>\n",
              "    </tr>\n",
              "    <tr>\n",
              "      <th>69</th>\n",
              "      <td>lata mangeshkar</td>\n",
              "      <td>kahan se yeh sholon ka toofan aaya</td>\n",
              "      <td>pop</td>\n",
              "      <td>violence</td>\n",
              "      <td>lata mangeshkar pop violence</td>\n",
              "    </tr>\n",
              "    <tr>\n",
              "      <th>108</th>\n",
              "      <td>lata mangeshkar</td>\n",
              "      <td>panchhi banoon udti phiroon</td>\n",
              "      <td>pop</td>\n",
              "      <td>music</td>\n",
              "      <td>lata mangeshkar pop music</td>\n",
              "    </tr>\n",
              "  </tbody>\n",
              "</table>\n",
              "</div>\n",
              "      <button class=\"colab-df-convert\" onclick=\"convertToInteractive('df-428d2fb3-1a1a-491a-a694-68fba15a3119')\"\n",
              "              title=\"Convert this dataframe to an interactive table.\"\n",
              "              style=\"display:none;\">\n",
              "        \n",
              "  <svg xmlns=\"http://www.w3.org/2000/svg\" height=\"24px\"viewBox=\"0 0 24 24\"\n",
              "       width=\"24px\">\n",
              "    <path d=\"M0 0h24v24H0V0z\" fill=\"none\"/>\n",
              "    <path d=\"M18.56 5.44l.94 2.06.94-2.06 2.06-.94-2.06-.94-.94-2.06-.94 2.06-2.06.94zm-11 1L8.5 8.5l.94-2.06 2.06-.94-2.06-.94L8.5 2.5l-.94 2.06-2.06.94zm10 10l.94 2.06.94-2.06 2.06-.94-2.06-.94-.94-2.06-.94 2.06-2.06.94z\"/><path d=\"M17.41 7.96l-1.37-1.37c-.4-.4-.92-.59-1.43-.59-.52 0-1.04.2-1.43.59L10.3 9.45l-7.72 7.72c-.78.78-.78 2.05 0 2.83L4 21.41c.39.39.9.59 1.41.59.51 0 1.02-.2 1.41-.59l7.78-7.78 2.81-2.81c.8-.78.8-2.07 0-2.86zM5.41 20L4 18.59l7.72-7.72 1.47 1.35L5.41 20z\"/>\n",
              "  </svg>\n",
              "      </button>\n",
              "      \n",
              "  <style>\n",
              "    .colab-df-container {\n",
              "      display:flex;\n",
              "      flex-wrap:wrap;\n",
              "      gap: 12px;\n",
              "    }\n",
              "\n",
              "    .colab-df-convert {\n",
              "      background-color: #E8F0FE;\n",
              "      border: none;\n",
              "      border-radius: 50%;\n",
              "      cursor: pointer;\n",
              "      display: none;\n",
              "      fill: #1967D2;\n",
              "      height: 32px;\n",
              "      padding: 0 0 0 0;\n",
              "      width: 32px;\n",
              "    }\n",
              "\n",
              "    .colab-df-convert:hover {\n",
              "      background-color: #E2EBFA;\n",
              "      box-shadow: 0px 1px 2px rgba(60, 64, 67, 0.3), 0px 1px 3px 1px rgba(60, 64, 67, 0.15);\n",
              "      fill: #174EA6;\n",
              "    }\n",
              "\n",
              "    [theme=dark] .colab-df-convert {\n",
              "      background-color: #3B4455;\n",
              "      fill: #D2E3FC;\n",
              "    }\n",
              "\n",
              "    [theme=dark] .colab-df-convert:hover {\n",
              "      background-color: #434B5C;\n",
              "      box-shadow: 0px 1px 3px 1px rgba(0, 0, 0, 0.15);\n",
              "      filter: drop-shadow(0px 1px 2px rgba(0, 0, 0, 0.3));\n",
              "      fill: #FFFFFF;\n",
              "    }\n",
              "  </style>\n",
              "\n",
              "      <script>\n",
              "        const buttonEl =\n",
              "          document.querySelector('#df-428d2fb3-1a1a-491a-a694-68fba15a3119 button.colab-df-convert');\n",
              "        buttonEl.style.display =\n",
              "          google.colab.kernel.accessAllowed ? 'block' : 'none';\n",
              "\n",
              "        async function convertToInteractive(key) {\n",
              "          const element = document.querySelector('#df-428d2fb3-1a1a-491a-a694-68fba15a3119');\n",
              "          const dataTable =\n",
              "            await google.colab.kernel.invokeFunction('convertToInteractive',\n",
              "                                                     [key], {});\n",
              "          if (!dataTable) return;\n",
              "\n",
              "          const docLinkHtml = 'Like what you see? Visit the ' +\n",
              "            '<a target=\"_blank\" href=https://colab.research.google.com/notebooks/data_table.ipynb>data table notebook</a>'\n",
              "            + ' to learn more about interactive tables.';\n",
              "          element.innerHTML = '';\n",
              "          dataTable['output_type'] = 'display_data';\n",
              "          await google.colab.output.renderOutput(dataTable, element);\n",
              "          const docLink = document.createElement('div');\n",
              "          docLink.innerHTML = docLinkHtml;\n",
              "          element.appendChild(docLink);\n",
              "        }\n",
              "      </script>\n",
              "    </div>\n",
              "  </div>\n",
              "  "
            ]
          },
          "metadata": {},
          "execution_count": 49
        }
      ]
    },
    {
      "cell_type": "code",
      "source": [
        " "
      ],
      "metadata": {
        "id": "aTN9jMUdnC77"
      },
      "execution_count": null,
      "outputs": []
    }
  ],
  "metadata": {
    "colab": {
      "provenance": []
    },
    "kernelspec": {
      "display_name": "Python 3",
      "name": "python3"
    },
    "language_info": {
      "name": "python"
    }
  },
  "nbformat": 4,
  "nbformat_minor": 0
}