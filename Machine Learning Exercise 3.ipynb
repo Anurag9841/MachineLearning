{
 "cells": [
  {
   "cell_type": "code",
   "execution_count": null,
   "id": "3e86a1a8",
   "metadata": {},
   "outputs": [],
   "source": [
    "import numpy as np\n",
    "from sklearn import linear_model\n",
    "import pandas as pd"
   ]
  },
  {
   "cell_type": "code",
   "execution_count": null,
   "id": "6ba85cbb",
   "metadata": {},
   "outputs": [],
   "source": [
    "df=pd.read_csv(\"F:\\\\mysql\\\\py-master\\\\test_scores.csv\")\n",
    "df"
   ]
  },
  {
   "cell_type": "code",
   "execution_count": null,
   "id": "bdd66b92",
   "metadata": {},
   "outputs": [],
   "source": [
    "x=df[\"math\"]\n",
    "y=df[\"cs\"]"
   ]
  },
  {
   "cell_type": "code",
   "execution_count": null,
   "id": "f878df7e",
   "metadata": {},
   "outputs": [],
   "source": [
    "def gradient_descent(x,y):\n",
    "    m_current=b_current=0\n",
    "    iterations=10000\n",
    "    learning_rate=0.0002\n",
    "    n=len(x)\n",
    "    for i in range(iterations):\n",
    "        y_pred=m_current *x+b_current\n",
    "        cost=(1/n)*sum((y-y_pred)*(y-y_pred))\n",
    "        pd_m=-(2/n)*sum(x*(y-y_pred))\n",
    "        pd_b=-(2/n)*sum(y-y_pred)\n",
    "        m_current=m_current-learning_rate*pd_m\n",
    "        b_current=b_current-learning_rate*pd_b\n",
    "        print(\"m = {},b = {},iterations = {},cost = {}\".format(m_current,b_current,i,cost))\n",
    "g=gradient_descent(x,y)\n",
    "x=df[\"math\"]\n",
    "y=df[\"cs\"]"
   ]
  },
  {
   "cell_type": "code",
   "execution_count": null,
   "id": "5b990d85",
   "metadata": {},
   "outputs": [],
   "source": [
    "reg=linear_model.LinearRegression()\n",
    "reg.fit(df[[\"math\"]],df.cs)"
   ]
  },
  {
   "cell_type": "code",
   "execution_count": null,
   "id": "b3dbc236",
   "metadata": {},
   "outputs": [],
   "source": [
    "reg.coef_"
   ]
  },
  {
   "cell_type": "code",
   "execution_count": null,
   "id": "619a252e",
   "metadata": {},
   "outputs": [],
   "source": [
    "reg.intercept_"
   ]
  },
  {
   "cell_type": "code",
   "execution_count": null,
   "id": "1a286c97",
   "metadata": {},
   "outputs": [],
   "source": []
  },
  {
   "cell_type": "code",
   "execution_count": null,
   "id": "42441675",
   "metadata": {},
   "outputs": [],
   "source": []
  },
  {
   "cell_type": "code",
   "execution_count": null,
   "id": "28639df3",
   "metadata": {},
   "outputs": [],
   "source": []
  }
 ],
 "metadata": {
  "kernelspec": {
   "display_name": "Python 3 (ipykernel)",
   "language": "python",
   "name": "python3"
  },
  "language_info": {
   "codemirror_mode": {
    "name": "ipython",
    "version": 3
   },
   "file_extension": ".py",
   "mimetype": "text/x-python",
   "name": "python",
   "nbconvert_exporter": "python",
   "pygments_lexer": "ipython3",
   "version": "3.9.2"
  }
 },
 "nbformat": 4,
 "nbformat_minor": 5
}
